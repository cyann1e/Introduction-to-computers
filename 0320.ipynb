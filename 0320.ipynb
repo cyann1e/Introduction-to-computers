{
  "nbformat": 4,
  "nbformat_minor": 0,
  "metadata": {
    "colab": {
      "provenance": [],
      "authorship_tag": "ABX9TyNKcZ5e+s/vN7E819ga9YFl",
      "include_colab_link": true
    },
    "kernelspec": {
      "name": "python3",
      "display_name": "Python 3"
    },
    "language_info": {
      "name": "python"
    }
  },
  "cells": [
    {
      "cell_type": "markdown",
      "metadata": {
        "id": "view-in-github",
        "colab_type": "text"
      },
      "source": [
        "<a href=\"https://colab.research.google.com/github/cyann1e/Introduction-to-computers/blob/main/0320.ipynb\" target=\"_parent\"><img src=\"https://colab.research.google.com/assets/colab-badge.svg\" alt=\"Open In Colab\"/></a>"
      ]
    },
    {
      "cell_type": "code",
      "source": [
        "國文=int(input(\"請輸入國文成績\"))\n",
        "英文=int(input(\"請輸入英文成績\"))\n",
        "數學=int(input(\"請輸入數學成績\"))\n",
        "你的成績總分為=國文+英文+數學\n",
        "print(國文,英文,數學,你的成績總分為)"
      ],
      "metadata": {
        "colab": {
          "base_uri": "https://localhost:8080/"
        },
        "id": "alhANR3Lb1fA",
        "outputId": "41a07aa7-a6cf-4021-b1fc-bfff0932583f"
      },
      "execution_count": 9,
      "outputs": [
        {
          "output_type": "stream",
          "name": "stdout",
          "text": [
            "請輸入國文成績98\n",
            "請輸入英文成績88\n",
            "請輸入數學成績90\n",
            "98 88 90 276\n"
          ]
        }
      ]
    },
    {
      "cell_type": "code",
      "execution_count": 17,
      "metadata": {
        "colab": {
          "base_uri": "https://localhost:8080/"
        },
        "id": "MGUTeBjcYDac",
        "outputId": "85cf4ece-8216-4fcd-eb48-15ff94322e73"
      },
      "outputs": [
        {
          "output_type": "stream",
          "name": "stdout",
          "text": [
            "請輸入梯形上底高度:3\n",
            "請輸入梯形下底高度:4\n",
            "請輸入梯形的高度:5\n",
            "3 4 5 17.5\n"
          ]
        }
      ],
      "source": [
        "上底=int(input(\"請輸入梯形上底高度:\"))\n",
        "下底=int(input(\"請輸入梯形下底高度:\"))\n",
        "高=int(input(\"請輸入梯形的高度:\"))\n",
        "面積=(上底+下底)*高/2\n",
        "print(上底,下底,高,面積)"
      ]
    },
    {
      "cell_type": "code",
      "source": [
        "身高=int(input(\"請輸入您的身高(cm):\"))\n",
        "體重=int(input(\"請輸入您的體重(kg)\"))\n",
        "BMI=體重/(身高/100)**2\n",
        "print(身高,體重,BMI)"
      ],
      "metadata": {
        "colab": {
          "base_uri": "https://localhost:8080/"
        },
        "id": "BV5ZS7nKdJpQ",
        "outputId": "22d67f08-1ed5-49be-83ee-213a7265b330"
      },
      "execution_count": 27,
      "outputs": [
        {
          "output_type": "stream",
          "name": "stdout",
          "text": [
            "請輸入您的身高(cm):152\n",
            "請輸入您的體重(kg)42\n",
            "152 42 18.178670360110804\n"
          ]
        }
      ]
    }
  ]
}