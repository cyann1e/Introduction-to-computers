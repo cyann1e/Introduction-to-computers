{
  "nbformat": 4,
  "nbformat_minor": 0,
  "metadata": {
    "colab": {
      "provenance": [],
      "authorship_tag": "ABX9TyPVojrhDFg4EHQcf1kJMQkP",
      "include_colab_link": true
    },
    "kernelspec": {
      "name": "python3",
      "display_name": "Python 3"
    },
    "language_info": {
      "name": "python"
    }
  },
  "cells": [
    {
      "cell_type": "markdown",
      "metadata": {
        "id": "view-in-github",
        "colab_type": "text"
      },
      "source": [
        "<a href=\"https://colab.research.google.com/github/cyann1e/Introduction-to-computers/blob/main/0327.ipynb\" target=\"_parent\"><img src=\"https://colab.research.google.com/assets/colab-badge.svg\" alt=\"Open In Colab\"/></a>"
      ]
    },
    {
      "cell_type": "code",
      "execution_count": 3,
      "metadata": {
        "colab": {
          "base_uri": "https://localhost:8080/"
        },
        "id": "krvw2n0WvS-B",
        "outputId": "14b7e767-bef4-4f2e-902e-7746ea85d1f1"
      },
      "outputs": [
        {
          "output_type": "stream",
          "name": "stdout",
          "text": [
            "請輸入攝氏溫度:32.5\n",
            "90.5\n"
          ]
        }
      ],
      "source": [
        "攝氏=float(input(\"請輸入攝氏溫度:\"))\n",
        "華氏=攝氏*9/5+32\n",
        "print(華氏)"
      ]
    },
    {
      "cell_type": "code",
      "source": [
        "num=2.9999999\n",
        "round_num=round(num,1)\n",
        "print(round_num)"
      ],
      "metadata": {
        "colab": {
          "base_uri": "https://localhost:8080/"
        },
        "id": "KpqNjfXVzv5Z",
        "outputId": "e6ba52e7-06b6-4fc7-b575-f1ae3f2fdac8"
      },
      "execution_count": 4,
      "outputs": [
        {
          "output_type": "stream",
          "name": "stdout",
          "text": [
            "3.0\n"
          ]
        }
      ]
    },
    {
      "cell_type": "code",
      "source": [
        "體重=float(input(\"請輸入您的體重(公斤):\"))\n",
        "身高公分=float(input(\"請輸入您的身高(公分):\"))\n",
        "BMI=體重/(身高公分/100)**2\n",
        "BMI=round(BMI,2)\n",
        "print(BMI)"
      ],
      "metadata": {
        "colab": {
          "base_uri": "https://localhost:8080/"
        },
        "id": "7w5V92bk0MFh",
        "outputId": "5268897a-d5d0-450f-b3ec-1c3775b0b7b2"
      },
      "execution_count": 7,
      "outputs": [
        {
          "output_type": "stream",
          "name": "stdout",
          "text": [
            "請輸入您的體重(公斤):42\n",
            "請輸入您的身高(公分):152\n",
            "18.18\n"
          ]
        }
      ]
    },
    {
      "cell_type": "code",
      "source": [
        "總和=sum(range(1,101))\n",
        "print(總和)"
      ],
      "metadata": {
        "colab": {
          "base_uri": "https://localhost:8080/"
        },
        "id": "w7Tup_C11kYC",
        "outputId": "2da04140-ba9a-40fc-cd26-44316d2373ec"
      },
      "execution_count": 9,
      "outputs": [
        {
          "output_type": "stream",
          "name": "stdout",
          "text": [
            "5050\n"
          ]
        }
      ]
    },
    {
      "cell_type": "code",
      "source": [
        "總和=sum(range(1,51,2))\n",
        "print(總和)"
      ],
      "metadata": {
        "colab": {
          "base_uri": "https://localhost:8080/"
        },
        "id": "zWLnMfJ92Oyg",
        "outputId": "be539342-6e6f-4dce-f8d9-9bd759d0d0fa"
      },
      "execution_count": 11,
      "outputs": [
        {
          "output_type": "stream",
          "name": "stdout",
          "text": [
            "625\n"
          ]
        }
      ]
    }
  ]
}