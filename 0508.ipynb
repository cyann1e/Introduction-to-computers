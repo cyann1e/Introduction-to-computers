{
  "nbformat": 4,
  "nbformat_minor": 0,
  "metadata": {
    "colab": {
      "provenance": [],
      "authorship_tag": "ABX9TyNOOJmVvHf60nUUK7xoJJNY",
      "include_colab_link": true
    },
    "kernelspec": {
      "name": "python3",
      "display_name": "Python 3"
    },
    "language_info": {
      "name": "python"
    }
  },
  "cells": [
    {
      "cell_type": "markdown",
      "metadata": {
        "id": "view-in-github",
        "colab_type": "text"
      },
      "source": [
        "<a href=\"https://colab.research.google.com/github/cyann1e/Introduction-to-computers/blob/main/0508.ipynb\" target=\"_parent\"><img src=\"https://colab.research.google.com/assets/colab-badge.svg\" alt=\"Open In Colab\"/></a>"
      ]
    },
    {
      "cell_type": "code",
      "execution_count": 1,
      "metadata": {
        "colab": {
          "base_uri": "https://localhost:8080/"
        },
        "id": "-DQKqs-0E2KV",
        "outputId": "ebec4ccc-5f9d-474b-b38b-753dcef44e70"
      },
      "outputs": [
        {
          "output_type": "stream",
          "name": "stdout",
          "text": [
            "你年齡太小\n",
            "需年滿20才可以購買菸酒\n"
          ]
        }
      ],
      "source": [
        "age=18\n",
        "if(age<20):\n",
        "  print(\"你年齡太小\")\n",
        "  print(\"需年滿20才可以購買菸酒\")"
      ]
    },
    {
      "cell_type": "code",
      "source": [
        "age=int(input(\"請輸入年齡\"))\n",
        "if(int(age)<20):\n",
        "  print(\"你年齡太小\")\n",
        "  print(\"需年滿20才可以購買菸酒\")\n",
        "else:\n",
        "  print(\"歡迎購買菸酒\")"
      ],
      "metadata": {
        "colab": {
          "base_uri": "https://localhost:8080/"
        },
        "id": "utxBea6xFrEq",
        "outputId": "244d370b-eac5-4790-bf5a-8b9b26769d46"
      },
      "execution_count": 2,
      "outputs": [
        {
          "output_type": "stream",
          "name": "stdout",
          "text": [
            "請輸入年齡18\n",
            "你年齡太小\n",
            "需年滿20才可以購買菸酒\n"
          ]
        }
      ]
    },
    {
      "cell_type": "code",
      "source": [
        "print(\"計算最終成績\")\n",
        "score=input(\"請輸入分數\")\n",
        "sc=int(score)\n",
        "if(sc>=90):\n",
        "  print(\"A\")\n",
        "elif(sc>=80):\n",
        "  print(\"B\")\n",
        "elif(sc>=70):\n",
        "  print(\"C\")\n",
        "elif(sc>=60):\n",
        "  print(\"D\")\n",
        "else:\n",
        "  print(\"F\")"
      ],
      "metadata": {
        "colab": {
          "base_uri": "https://localhost:8080/"
        },
        "id": "YPyhM5aNGh5K",
        "outputId": "fc5467ff-12f7-47e1-9bab-97c36b527c9f"
      },
      "execution_count": 3,
      "outputs": [
        {
          "output_type": "stream",
          "name": "stdout",
          "text": [
            "計算最終成績\n",
            "請輸入分數91\n",
            "A\n"
          ]
        }
      ]
    },
    {
      "cell_type": "code",
      "source": [
        "print(\"判斷輸入年份是否閏年\")\n",
        "year = int(input(\"請輸入年分:\"))\n",
        "rem4 = year % 4\n",
        "rem100 = year % 100\n",
        "rem400 = year % 400\n",
        "if rem4==0:\n",
        "  if rem100!=0 or rem400 ==0:\n",
        "    print(\"是閏年:\",year)\n",
        "  else:\n",
        "    print(\"是平年:\",year)\n",
        "else:\n",
        "  print(\"是平年:\",year)"
      ],
      "metadata": {
        "colab": {
          "base_uri": "https://localhost:8080/"
        },
        "id": "gmDWs4e0IB6D",
        "outputId": "da4704e3-a46e-489f-f749-0591b05715eb"
      },
      "execution_count": 14,
      "outputs": [
        {
          "output_type": "stream",
          "name": "stdout",
          "text": [
            "判斷輸入年份是否閏年\n",
            "請輸入年分:2020\n",
            "是閏年: 2020\n"
          ]
        }
      ]
    },
    {
      "cell_type": "code",
      "source": [
        "a=int(input())\n",
        "if(a>=0):\n",
        "  if(a%2==0):\n",
        "    print(\"{} is even\".format(a))\n",
        "  else:\n",
        "    print(\"{} is odd\".format(a))\n",
        "else:\n",
        "  print(\"Input Error\")"
      ],
      "metadata": {
        "colab": {
          "base_uri": "https://localhost:8080/"
        },
        "id": "0VxhhmXFLS0v",
        "outputId": "632dee8f-9547-44e3-cb79-87f3274345ac"
      },
      "execution_count": 16,
      "outputs": [
        {
          "output_type": "stream",
          "name": "stdout",
          "text": [
            "99\n",
            "99 is odd\n"
          ]
        }
      ]
    }
  ]
}