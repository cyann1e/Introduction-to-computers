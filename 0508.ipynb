{
  "nbformat": 4,
  "nbformat_minor": 0,
  "metadata": {
    "colab": {
      "provenance": [],
      "authorship_tag": "ABX9TyOdJOniesTIVfsBjVcpt/DV",
      "include_colab_link": true
    },
    "kernelspec": {
      "name": "python3",
      "display_name": "Python 3"
    },
    "language_info": {
      "name": "python"
    }
  },
  "cells": [
    {
      "cell_type": "markdown",
      "metadata": {
        "id": "view-in-github",
        "colab_type": "text"
      },
      "source": [
        "<a href=\"https://colab.research.google.com/github/cyann1e/Introduction-to-computers/blob/main/0508.ipynb\" target=\"_parent\"><img src=\"https://colab.research.google.com/assets/colab-badge.svg\" alt=\"Open In Colab\"/></a>"
      ]
    },
    {
      "cell_type": "code",
      "execution_count": 1,
      "metadata": {
        "colab": {
          "base_uri": "https://localhost:8080/"
        },
        "id": "ijiV7utf4HR0",
        "outputId": "5bf61cc4-c622-4c2f-8dbb-e7e294e3ac09"
      },
      "outputs": [
        {
          "output_type": "stream",
          "name": "stdout",
          "text": [
            "0508\n"
          ]
        }
      ],
      "source": [
        "print(\"0508\")"
      ]
    },
    {
      "cell_type": "code",
      "source": [
        "temperature=input(\"請輸入體溫\")\n",
        "tp=int(temperature)\n",
        "if(tp>=37.5):\n",
        "    print(\"體溫過高！\")\n",
        "elif(tp>=37,37.4):\n",
        "    print(\"體溫略高！\")\n",
        "elif(tp>=36.9,34):\n",
        "    print(\"體溫正常！\")\n",
        "else:\n",
        "    print(\"體溫異常，請重新測量！\")"
      ],
      "metadata": {
        "colab": {
          "base_uri": "https://localhost:8080/"
        },
        "id": "GSi6ezVC7A8m",
        "outputId": "6973187a-7e32-46f0-c1da-d6c59034436a"
      },
      "execution_count": 28,
      "outputs": [
        {
          "output_type": "stream",
          "name": "stdout",
          "text": [
            "請輸入體溫37\n",
            "體溫略高！\n"
          ]
        }
      ]
    },
    {
      "cell_type": "code",
      "source": [
        "score=input(\"請輸入成績\")\n",
        "sc=int(score)\n",
        "if(sc>=90):\n",
        "  print(\"A\")\n",
        "elif(sc>=80,89):\n",
        "  print(\"B\")\n",
        "elif(sc>=70,79):\n",
        "  print(\"C\")\n",
        "elif(sc>=60,69):\n",
        "  print(\"D\")\n",
        "else:\n",
        "  print(\"E\")"
      ],
      "metadata": {
        "colab": {
          "base_uri": "https://localhost:8080/"
        },
        "id": "KLdpuqs_4Nwy",
        "outputId": "0f5a8491-a199-4bda-be23-582678ac0cc5"
      },
      "execution_count": 29,
      "outputs": [
        {
          "output_type": "stream",
          "name": "stdout",
          "text": [
            "請輸入成績88\n",
            "B\n"
          ]
        }
      ]
    },
    {
      "cell_type": "code",
      "source": [
        "month=input(\"請輸入月份\")\n",
        "mt=int(month)\n",
        "if(mt==3,4,5):\n",
        "  print(\"春天！\")\n",
        "elif(mt==6,7,8):\n",
        "  print(\"夏天！\")\n",
        "elif(mt==9,10,11):\n",
        "  print(\"秋天！\")\n",
        "elif(mt==12,1,2):\n",
        "  print(\"東天！\")\n",
        "else:\n",
        "  print(\"月份不在範圍內！\")"
      ],
      "metadata": {
        "colab": {
          "base_uri": "https://localhost:8080/"
        },
        "id": "54T8Aujr8Yci",
        "outputId": "f0cb6389-ec2f-4fe7-e051-933c73010063"
      },
      "execution_count": 39,
      "outputs": [
        {
          "output_type": "stream",
          "name": "stdout",
          "text": [
            "請輸入月份5\n",
            "春天！\n"
          ]
        }
      ]
    }
  ]
}