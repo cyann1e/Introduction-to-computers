{
  "nbformat": 4,
  "nbformat_minor": 0,
  "metadata": {
    "colab": {
      "provenance": [],
      "authorship_tag": "ABX9TyNlyOeMHPTr8DNHkfCJWXSB",
      "include_colab_link": true
    },
    "kernelspec": {
      "name": "python3",
      "display_name": "Python 3"
    },
    "language_info": {
      "name": "python"
    }
  },
  "cells": [
    {
      "cell_type": "markdown",
      "metadata": {
        "id": "view-in-github",
        "colab_type": "text"
      },
      "source": [
        "<a href=\"https://colab.research.google.com/github/cyann1e/Introduction-to-computers/blob/main/0529.ipynb\" target=\"_parent\"><img src=\"https://colab.research.google.com/assets/colab-badge.svg\" alt=\"Open In Colab\"/></a>"
      ]
    },
    {
      "cell_type": "code",
      "execution_count": 1,
      "metadata": {
        "colab": {
          "base_uri": "https://localhost:8080/"
        },
        "id": "EBHnH5Jt8sZw",
        "outputId": "c4497ed4-f5a3-41d3-8c5e-433b0c4418e5"
      },
      "outputs": [
        {
          "output_type": "stream",
          "name": "stdout",
          "text": [
            "5\n",
            "*\n",
            "**\n",
            "***\n",
            "****\n",
            "*****\n"
          ]
        }
      ],
      "source": [
        "n=int(input())\n",
        "for i in range(1,n+1):\n",
        "  print(i*\"*\")"
      ]
    },
    {
      "cell_type": "code",
      "source": [
        "monthA=int(input())\n",
        "if(3<=monthA<=5):\n",
        "  print(\"{} is spring\".format(monthA))\n",
        "elif(6<=monthA<=8):\n",
        "  print(\"{} is summer\".format(monthA))\n",
        "elif(9<=monthA<=11):\n",
        "  print(\"{} is autumn\".format(monthA))\n",
        "elif(monthA==12 or monthA==1 or monthA==2):\n",
        "  print(\"{} is winter\".format(monthA))\n",
        "else:\n",
        "  print(\"input error\")"
      ],
      "metadata": {
        "colab": {
          "base_uri": "https://localhost:8080/"
        },
        "id": "0REx5uNj9DTU",
        "outputId": "bd979a42-5684-43a6-edc3-0d9b82fd71f6"
      },
      "execution_count": 2,
      "outputs": [
        {
          "output_type": "stream",
          "name": "stdout",
          "text": [
            "1\n",
            "1 is winter\n"
          ]
        }
      ]
    },
    {
      "cell_type": "code",
      "source": [
        "scoreA=int(input())\n",
        "if(90<=scoreA<=100):\n",
        "  print(\"{} is A\".format(scoreA))\n",
        "elif(80<=scoreA<=89):\n",
        "  print(\"{} is B\".format(scoreA))\n",
        "elif(70<=scoreA<=79):\n",
        "  print(\"{} is C\".format(scoreA))\n",
        "elif(60<=scoreA<=69):\n",
        "  print(\"{} is D\".format(scoreA))\n",
        "elif(0<=scoreA<=59):\n",
        "  print(\"{} is E\".format(scoreA))\n",
        "else:\n",
        "  print(\"input error\")"
      ],
      "metadata": {
        "colab": {
          "base_uri": "https://localhost:8080/"
        },
        "id": "3o-SKOXO-BI3",
        "outputId": "6428315f-1f8f-47d5-d188-b41edda86e6e"
      },
      "execution_count": 3,
      "outputs": [
        {
          "output_type": "stream",
          "name": "stdout",
          "text": [
            "80\n",
            "80 is B\n"
          ]
        }
      ]
    }
  ]
}